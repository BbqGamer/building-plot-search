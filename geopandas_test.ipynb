{
 "cells": [
  {
   "cell_type": "code",
   "execution_count": 4,
   "metadata": {},
   "outputs": [],
   "source": [
    "import geopandas as gpd"
   ]
  },
  {
   "cell_type": "code",
   "execution_count": 6,
   "metadata": {},
   "outputs": [
    {
     "name": "stdout",
     "output_type": "stream",
     "text": [
      "CPU times: user 23.8 s, sys: 315 ms, total: 24.1 s\n",
      "Wall time: 24.1 s\n"
     ]
    }
   ],
   "source": [
    "PLOT_FILE = '../data/plots/EGiB.GML_205705_2023_09_19_wybrane.gml'\n",
    "%time df = gpd.read_file(PLOT_FILE)"
   ]
  },
  {
   "cell_type": "code",
   "execution_count": 7,
   "metadata": {},
   "outputs": [
    {
     "name": "stderr",
     "output_type": "stream",
     "text": [
      "/home/adam/.local/miniconda3/envs/geo/lib/python3.11/site-packages/pyarrow/pandas_compat.py:373: FutureWarning: is_sparse is deprecated and will be removed in a future version. Check `isinstance(dtype, pd.SparseDtype)` instead.\n",
      "  if _pandas_api.is_sparse(col):\n"
     ]
    }
   ],
   "source": [
    "df.to_feather('../data/plots/plots.feather')"
   ]
  },
  {
   "cell_type": "code",
   "execution_count": 9,
   "metadata": {},
   "outputs": [
    {
     "name": "stdout",
     "output_type": "stream",
     "text": [
      "CPU times: user 549 ms, sys: 189 ms, total: 738 ms\n",
      "Wall time: 680 ms\n"
     ]
    }
   ],
   "source": [
    "%time feather_plots = gpd.read_feather('../data/plots/plots.feather')"
   ]
  },
  {
   "cell_type": "code",
   "execution_count": 10,
   "metadata": {},
   "outputs": [
    {
     "data": {
      "text/plain": [
       "Index(['gml_id', 'identifier', 'lokalnyId', 'przestrzenNazw', 'wersjaId',\n",
       "       'idDzialki', 'waznoscOd', 'waznoscDo', 'wartoscGruntu', 'dataWyceny',\n",
       "       'informacjaODokladnReprezentacjiPola', 'nrRejestruZabytkow',\n",
       "       'idRejonuStatystycznego', 'dzialkaObjetaFormaOchronyPrzyrody',\n",
       "       'geometry'],\n",
       "      dtype='object')"
      ]
     },
     "execution_count": 10,
     "metadata": {},
     "output_type": "execute_result"
    }
   ],
   "source": [
    "feather_plots.columns"
   ]
  },
  {
   "cell_type": "code",
   "execution_count": 15,
   "metadata": {},
   "outputs": [
    {
     "data": {
      "text/html": [
       "<div>\n",
       "<style scoped>\n",
       "    .dataframe tbody tr th:only-of-type {\n",
       "        vertical-align: middle;\n",
       "    }\n",
       "\n",
       "    .dataframe tbody tr th {\n",
       "        vertical-align: top;\n",
       "    }\n",
       "\n",
       "    .dataframe thead th {\n",
       "        text-align: right;\n",
       "    }\n",
       "</style>\n",
       "<table border=\"1\" class=\"dataframe\">\n",
       "  <thead>\n",
       "    <tr style=\"text-align: right;\">\n",
       "      <th></th>\n",
       "      <th>idDzialki</th>\n",
       "      <th>geometry</th>\n",
       "    </tr>\n",
       "  </thead>\n",
       "  <tbody>\n",
       "    <tr>\n",
       "      <th>0</th>\n",
       "      <td>306401_1.0061.AR_13.33/1</td>\n",
       "      <td>POLYGON ((6426309.000 5807197.860, 6426310.790...</td>\n",
       "    </tr>\n",
       "    <tr>\n",
       "      <th>1</th>\n",
       "      <td>306401_1.0061.AR_15.118</td>\n",
       "      <td>POLYGON ((6426382.240 5806674.720, 6426357.600...</td>\n",
       "    </tr>\n",
       "    <tr>\n",
       "      <th>2</th>\n",
       "      <td>306401_1.0061.AR_13.8</td>\n",
       "      <td>POLYGON ((6426116.280 5807001.770, 6426109.240...</td>\n",
       "    </tr>\n",
       "    <tr>\n",
       "      <th>3</th>\n",
       "      <td>306401_1.0061.AR_26.6/2</td>\n",
       "      <td>POLYGON ((6427481.850 5805782.030, 6427278.310...</td>\n",
       "    </tr>\n",
       "    <tr>\n",
       "      <th>4</th>\n",
       "      <td>306401_1.0061.AR_26.22/2</td>\n",
       "      <td>POLYGON ((6427268.690 5805833.890, 6427263.180...</td>\n",
       "    </tr>\n",
       "    <tr>\n",
       "      <th>...</th>\n",
       "      <td>...</td>\n",
       "      <td>...</td>\n",
       "    </tr>\n",
       "    <tr>\n",
       "      <th>117389</th>\n",
       "      <td>306401_1.0022.AR_21.34/7</td>\n",
       "      <td>POLYGON ((6418958.020 5811822.010, 6418951.730...</td>\n",
       "    </tr>\n",
       "    <tr>\n",
       "      <th>117390</th>\n",
       "      <td>306401_1.0022.AR_21.34/8</td>\n",
       "      <td>POLYGON ((6418951.730 5811796.590, 6418985.190...</td>\n",
       "    </tr>\n",
       "    <tr>\n",
       "      <th>117391</th>\n",
       "      <td>306401_1.0022.AR_21.34/6</td>\n",
       "      <td>POLYGON ((6418958.020 5811822.010, 6418925.860...</td>\n",
       "    </tr>\n",
       "    <tr>\n",
       "      <th>117392</th>\n",
       "      <td>306401_1.0041.AR_12.373/4</td>\n",
       "      <td>POLYGON ((6420082.290 5806231.830, 6420090.380...</td>\n",
       "    </tr>\n",
       "    <tr>\n",
       "      <th>117393</th>\n",
       "      <td>306401_1.0041.AR_12.373/3</td>\n",
       "      <td>POLYGON ((6420090.380 5806241.010, 6420082.290...</td>\n",
       "    </tr>\n",
       "  </tbody>\n",
       "</table>\n",
       "<p>117394 rows × 2 columns</p>\n",
       "</div>"
      ],
      "text/plain": [
       "                        idDzialki  \\\n",
       "0        306401_1.0061.AR_13.33/1   \n",
       "1         306401_1.0061.AR_15.118   \n",
       "2           306401_1.0061.AR_13.8   \n",
       "3         306401_1.0061.AR_26.6/2   \n",
       "4        306401_1.0061.AR_26.22/2   \n",
       "...                           ...   \n",
       "117389   306401_1.0022.AR_21.34/7   \n",
       "117390   306401_1.0022.AR_21.34/8   \n",
       "117391   306401_1.0022.AR_21.34/6   \n",
       "117392  306401_1.0041.AR_12.373/4   \n",
       "117393  306401_1.0041.AR_12.373/3   \n",
       "\n",
       "                                                 geometry  \n",
       "0       POLYGON ((6426309.000 5807197.860, 6426310.790...  \n",
       "1       POLYGON ((6426382.240 5806674.720, 6426357.600...  \n",
       "2       POLYGON ((6426116.280 5807001.770, 6426109.240...  \n",
       "3       POLYGON ((6427481.850 5805782.030, 6427278.310...  \n",
       "4       POLYGON ((6427268.690 5805833.890, 6427263.180...  \n",
       "...                                                   ...  \n",
       "117389  POLYGON ((6418958.020 5811822.010, 6418951.730...  \n",
       "117390  POLYGON ((6418951.730 5811796.590, 6418985.190...  \n",
       "117391  POLYGON ((6418958.020 5811822.010, 6418925.860...  \n",
       "117392  POLYGON ((6420082.290 5806231.830, 6420090.380...  \n",
       "117393  POLYGON ((6420090.380 5806241.010, 6420082.290...  \n",
       "\n",
       "[117394 rows x 2 columns]"
      ]
     },
     "execution_count": 15,
     "metadata": {},
     "output_type": "execute_result"
    }
   ],
   "source": [
    "feather_plots[['idDzialki', 'geometry']]"
   ]
  },
  {
   "cell_type": "code",
   "execution_count": 20,
   "metadata": {},
   "outputs": [
    {
     "name": "stdout",
     "output_type": "stream",
     "text": [
      "CPU times: user 47.9 ms, sys: 7.47 ms, total: 55.3 ms\n",
      "Wall time: 54 ms\n"
     ]
    },
    {
     "data": {
      "text/plain": [
       "0           570.30975\n",
       "1           990.85095\n",
       "2           563.26170\n",
       "3         41983.45985\n",
       "4          2038.88595\n",
       "             ...     \n",
       "117389      846.47555\n",
       "117390     1736.13990\n",
       "117391     2431.53225\n",
       "117392      350.07625\n",
       "117393      350.18875\n",
       "Length: 117394, dtype: float64"
      ]
     },
     "execution_count": 20,
     "metadata": {},
     "output_type": "execute_result"
    }
   ],
   "source": [
    "%time feather_plots.geometry.area"
   ]
  },
  {
   "cell_type": "code",
   "execution_count": 18,
   "metadata": {},
   "outputs": [
    {
     "name": "stdout",
     "output_type": "stream",
     "text": [
      "CPU times: user 771 ms, sys: 24 ms, total: 795 ms\n",
      "Wall time: 793 ms\n"
     ]
    },
    {
     "data": {
      "text/plain": [
       "0         POINT (6426323.287 5807187.393)\n",
       "1         POINT (6426365.770 5806658.266)\n",
       "2         POINT (6426107.217 5807004.430)\n",
       "3         POINT (6427341.843 5805711.735)\n",
       "4         POINT (6427236.674 5805737.591)\n",
       "                       ...               \n",
       "117389    POINT (6418939.202 5811813.525)\n",
       "117390    POINT (6418953.341 5811783.317)\n",
       "117391    POINT (6418962.112 5811839.491)\n",
       "117392    POINT (6420097.070 5806226.943)\n",
       "117393    POINT (6420075.491 5806246.303)\n",
       "Length: 117394, dtype: geometry"
      ]
     },
     "execution_count": 18,
     "metadata": {},
     "output_type": "execute_result"
    }
   ],
   "source": [
    "%time feather_plots.geometry.centroid"
   ]
  }
 ],
 "metadata": {
  "kernelspec": {
   "display_name": "geo",
   "language": "python",
   "name": "python3"
  },
  "language_info": {
   "codemirror_mode": {
    "name": "ipython",
    "version": 3
   },
   "file_extension": ".py",
   "mimetype": "text/x-python",
   "name": "python",
   "nbconvert_exporter": "python",
   "pygments_lexer": "ipython3",
   "version": "3.11.6"
  }
 },
 "nbformat": 4,
 "nbformat_minor": 2
}
