{
 "cells": [
  {
   "cell_type": "code",
   "execution_count": 1,
   "metadata": {},
   "outputs": [],
   "source": [
    "from owslib.fes import *\n",
    "from owslib.etree import etree\n",
    "from owslib.wfs import WebFeatureService\n",
    "import re\n",
    "import geopandas as gpd\n",
    "import requests\n",
    "from owslib.wms import WebMapService"
   ]
  },
  {
   "cell_type": "code",
   "execution_count": 2,
   "metadata": {},
   "outputs": [],
   "source": [
    "# getting layers of data for streets\n",
    "url = \"https://wms2.geopoz.poznan.pl/geoserver/topografia/ows?SERVICE=WMS&REQUEST=GetCapabilities\"\n",
    "r = requests.get(url)\n",
    "wms = WebMapService(url, version='1.3.0')"
   ]
  },
  {
   "cell_type": "code",
   "execution_count": null,
   "metadata": {},
   "outputs": [],
   "source": [
    "layers = list(wms.contents)\n",
    "for layer in layers[40:]:\n",
    "    # print only this with (poligon) in title or without any brackets\n",
    "    if \"poligon\" in wms[layer].title or \"(\" not in wms[layer].title:\n",
    "        print(layer, wms[layer].title)"
   ]
  },
  {
   "cell_type": "code",
   "execution_count": 4,
   "metadata": {},
   "outputs": [],
   "source": [
    "list_of_layers = [\"tereny_komunikacyjne_e_sql\", \"tereny_wodne_e_sql\", \"tereny_wodne_sql\", \"zwj_poly_sql\", \"zwr_poly_sql\"]\n",
    "layers_titles = [\"streets\", \"water_areas1\", \"water_areas2\", \"staying_water\", \"running_water\"]\n",
    "dict_of_layers = dict(zip(list_of_layers, layers_titles))"
   ]
  },
  {
   "cell_type": "code",
   "execution_count": 5,
   "metadata": {},
   "outputs": [],
   "source": [
    "wfs11 = WebFeatureService(url='https://wms2.geopoz.poznan.pl/geoserver/topografia//wfs', version='1.1.0')"
   ]
  },
  {
   "cell_type": "code",
   "execution_count": 6,
   "metadata": {},
   "outputs": [
    {
     "data": {
      "text/plain": [
       "['GetCapabilities', 'DescribeFeatureType', 'GetFeature', 'GetGmlObject']"
      ]
     },
     "execution_count": 6,
     "metadata": {},
     "output_type": "execute_result"
    }
   ],
   "source": [
    "[operation.name for operation in wfs11.operations]"
   ]
  },
  {
   "cell_type": "code",
   "execution_count": null,
   "metadata": {},
   "outputs": [],
   "source": [
    "# read all layers to gpd but rememmber about adding 'topografia:' before layer name\n",
    "for layer, title in dict_of_layers.items():\n",
    "    typename = 'topografia:' + layer\n",
    "    output_format = 'GML2'\n",
    "    response = wfs11.getfeature(typename=typename, outputFormat=output_format)\n",
    "    with open(title + '.gml', 'wb') as file:\n",
    "        file.write(response.read())\n",
    "    gdf = gpd.read_file(title + '.gml')"
   ]
  },
  {
   "cell_type": "code",
   "execution_count": 8,
   "metadata": {},
   "outputs": [],
   "source": [
    "# getting layers of data for streets\n",
    "url = \"https://wms2.geopoz.poznan.pl/geoserver/transport//wfs?service=wfs&version=2.0.0&request=GetCapabilities\"\n",
    "wms = WebMapService(url, version='1.3.0')\n",
    "layers = list(wms.contents)"
   ]
  },
  {
   "cell_type": "code",
   "execution_count": 9,
   "metadata": {},
   "outputs": [
    {
     "name": "stdout",
     "output_type": "stream",
     "text": [
      "parkomaty_sql Transport - Parkomaty\n",
      "spp_sektory Transport - Strefa Platnego Parkowania (sektory dla mieszkancow)\n",
      "strefy_platnego_parkowania_sql Transport - Strefa Platnego Parkowania\n",
      "v_parkingi_sql Transport - Parkingi dla rowerów\n"
     ]
    }
   ],
   "source": [
    " # regular expressions\n",
    "for layer in layers:\n",
    "    # print only this with \"park\" in title, use regex to find \"park\" in title\n",
    "    if re.search(\"park\", wms[layer].title, re.IGNORECASE):\n",
    "        print(layer, wms[layer].title)"
   ]
  },
  {
   "attachments": {},
   "cell_type": "markdown",
   "metadata": {},
   "source": [
    "#### chyba nie ma parkingów :("
   ]
  }
 ],
 "metadata": {
  "kernelspec": {
   "display_name": "pc1_classes",
   "language": "python",
   "name": "python3"
  },
  "language_info": {
   "codemirror_mode": {
    "name": "ipython",
    "version": 3
   },
   "file_extension": ".py",
   "mimetype": "text/x-python",
   "name": "python",
   "nbconvert_exporter": "python",
   "pygments_lexer": "ipython3",
   "version": "3.11.5"
  },
  "orig_nbformat": 4
 },
 "nbformat": 4,
 "nbformat_minor": 2
}
