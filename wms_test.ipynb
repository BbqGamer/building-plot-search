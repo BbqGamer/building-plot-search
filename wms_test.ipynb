{
 "cells": [
  {
   "cell_type": "code",
   "execution_count": 33,
   "metadata": {},
   "outputs": [
    {
     "name": "stdout",
     "output_type": "stream",
     "text": [
      "WMS\n",
      "1.3.0\n",
      "Usługa przeglądania Państwowego Rejestru Granic\n",
      "Usługa WMS publikująca jednostki podziału terytorialnego Polski w tym jednostki administracyjne\n"
     ]
    }
   ],
   "source": [
    "from owslib.wms import WebMapService\n",
    "\n",
    "#URL = 'https://mapy.geoportal.gov.pl/wss/ext/KrajowaIntegracjaNumeracjiAdresowej'\n",
    "URL = 'https://mapy.geoportal.gov.pl/wss/service/PZGIK/PRG/WMS/AdministrativeBoundaries'\n",
    "\n",
    "wms = WebMapService(URL, version='1.3.0')\n",
    "print(wms.identification.type)\n",
    "print(wms.identification.version)\n",
    "print(wms.identification.title)\n",
    "print(wms.identification.abstract)"
   ]
  },
  {
   "cell_type": "code",
   "execution_count": 34,
   "metadata": {},
   "outputs": [
    {
     "data": {
      "text/plain": [
       "['W12_Przystan_morska',\n",
       " 'W11_Port_morski',\n",
       " 'W10_Reda',\n",
       " 'W09_Pas_techniczny',\n",
       " 'W08_Pas_ochronny',\n",
       " 'W07_Pas_nadbrzezny',\n",
       " 'W06_Morskie_linie_brzegowe',\n",
       " 'W05_Strefa_przylegla',\n",
       " 'W04_Wylaczna_strefa_ekonomiczna',\n",
       " 'W03_Morskie_wody_wewnetrzne',\n",
       " 'W02_Morze_terytorialne_RP',\n",
       " 'W01_Linia_podstawowa_morza_terytorialnego',\n",
       " 'U11_Urzad_zeglugi_srodladowej',\n",
       " 'U10_Urzad_morski',\n",
       " 'U09_Regionalny_zarzad_gospodarki_wodnej_PGWWP',\n",
       " 'U08_Zarzad_zlewni_PGWWP',\n",
       " 'U07_Regionalna_dyrekcja_lasow_panstwowych',\n",
       " 'U06_Nadlesnictwo',\n",
       " 'U05_Izba_administracji_skarbowej',\n",
       " 'U04_Urzad_celno-skarbowy',\n",
       " 'U03_Wyspecjalizowany_urzad_skarbowy',\n",
       " 'U02_Urzad_skarbowy',\n",
       " 'U01_Archiwum_panstwowe',\n",
       " 'K13_Obszar_dzialania_szefa_obrony_cywilnej_gminy',\n",
       " 'K12_Obszar_dzialania_szefa_obrony_cywilnej_powiatu',\n",
       " 'K11_Obszar_dzialania_szefa_obrony_cywilnej_wojewodztwa',\n",
       " 'K10_Dywizjon_strazy_granicznej',\n",
       " 'K09_Placowka_strazy_granicznej',\n",
       " 'K08_Oddzial_strazy_granicznej',\n",
       " 'K07_Komenda_powiatowa_strazy_pozarnej',\n",
       " 'K06_Komenda_wojewodzka_strazy_pozarnej',\n",
       " 'K05_Komisariat_policji',\n",
       " 'K04_Komenda_rejonowa_policji',\n",
       " 'K03_Komenda_stoleczna_policji',\n",
       " 'K02_Komenda_powiatowa_policji',\n",
       " 'K01_Komenda_wojewodzka_policji',\n",
       " 'P03_Prokuratura_rejonowa',\n",
       " 'P02_Prokuratura_okregowa',\n",
       " 'P01_Prokuratura_regionalna',\n",
       " 'S04_Wojewodzki_sad_administracyjny',\n",
       " 'S03_Sad_rejonowy',\n",
       " 'S02_Sad_okregowy',\n",
       " 'S01_Sad_apelacyjny',\n",
       " 'R02_Granice_obwodow_spisowych',\n",
       " 'R01_Granice_rejonow_statystycznych',\n",
       " 'A06_Granice_obrebow_ewidencyjnych',\n",
       " 'A05_Granice_jednostek_ewidencyjnych',\n",
       " 'A04_Granice_miast',\n",
       " 'A03_Granice_gmin',\n",
       " 'A02_Granice_powiatow',\n",
       " 'A01_Granice_wojewodztw',\n",
       " 'A00_Granice_panstwa']"
      ]
     },
     "execution_count": 34,
     "metadata": {},
     "output_type": "execute_result"
    }
   ],
   "source": [
    "list(wms.contents)"
   ]
  },
  {
   "cell_type": "code",
   "execution_count": 38,
   "metadata": {},
   "outputs": [
    {
     "name": "stdout",
     "output_type": "stream",
     "text": [
      "<class 'owslib.map.wms130.ContentMetadata'>\n",
      "['__class__', '__delattr__', '__dict__', '__dir__', '__doc__', '__eq__', '__format__', '__ge__', '__getattribute__', '__getstate__', '__gt__', '__hash__', '__init__', '__init_subclass__', '__le__', '__lt__', '__module__', '__ne__', '__new__', '__reduce__', '__reduce_ex__', '__repr__', '__setattr__', '__sizeof__', '__str__', '__subclasshook__', '__weakref__', '_children', 'abstract', 'attribution', 'auth', 'boundingBox', 'boundingBoxWGS84', 'cascaded', 'children', 'crsOptions', 'crs_list', 'dataUrls', 'defaulttimeposition', 'dimensions', 'elevations', 'featureListUrls', 'fixedHeight', 'fixedWidth', 'get_metadata', 'id', 'index', 'keywords', 'layers', 'max_scale_denominator', 'metadataUrls', 'min_scale_denominator', 'name', 'noSubsets', 'opaque', 'parent', 'parse_remote_metadata', 'queryable', 'scaleHint', 'styles', 'timepositions', 'title']\n"
     ]
    }
   ],
   "source": [
    "powiaty = wms['A02_Granice_powiatow']\n",
    "# ulicy = wms['prg-ulice']\n",
    "# place = wms['prg-place']\n",
    "print(type(powiaty))\n",
    "print(dir(powiaty))"
   ]
  },
  {
   "cell_type": "code",
   "execution_count": 39,
   "metadata": {},
   "outputs": [
    {
     "name": "stdout",
     "output_type": "stream",
     "text": [
      "A02_Granice_powiatow\n",
      "1\n",
      "['EPSG:2180', 'EPSG:4326', 'EPSG:3857']\n",
      "(13.7047, 48.6446, 24.8676, 55.032)\n",
      "(160828.0, 98928.9, 876030.0, 796522.0, 'EPSG:2180')\n",
      "None\n",
      "{}\n"
     ]
    }
   ],
   "source": [
    "print(powiaty.title)\n",
    "print(powiaty.queryable)\n",
    "print(powiaty.crsOptions)\n",
    "print(powiaty.boundingBoxWGS84)\n",
    "print(powiaty.boundingBox)\n",
    "print(powiaty.timepositions)\n",
    "print(powiaty.styles)\n"
   ]
  },
  {
   "cell_type": "code",
   "execution_count": 40,
   "metadata": {},
   "outputs": [
    {
     "data": {
      "text/plain": [
       "['GetCapabilities',\n",
       " 'GetMap',\n",
       " 'GetFeatureInfo',\n",
       " 'DescribeLayer',\n",
       " 'GetLegendGraphic',\n",
       " 'GetStyles']"
      ]
     },
     "execution_count": 40,
     "metadata": {},
     "output_type": "execute_result"
    }
   ],
   "source": [
    "[op.name for op in wms.operations]"
   ]
  },
  {
   "cell_type": "code",
   "execution_count": 41,
   "metadata": {},
   "outputs": [
    {
     "data": {
      "text/plain": [
       "[{'type': 'Get',\n",
       "  'url': 'https://mapy.geoportal.gov.pl/wss/service/PZGIK/PRG/WMS/AdministrativeBoundaries?language=pol&'},\n",
       " {'type': 'Post',\n",
       "  'url': 'https://mapy.geoportal.gov.pl/wss/service/PZGIK/PRG/WMS/AdministrativeBoundaries?language=pol&'}]"
      ]
     },
     "execution_count": 41,
     "metadata": {},
     "output_type": "execute_result"
    }
   ],
   "source": [
    "wms.getOperationByName('GetMap').methods"
   ]
  },
  {
   "cell_type": "code",
   "execution_count": 42,
   "metadata": {},
   "outputs": [
    {
     "data": {
      "text/plain": [
       "['image/png',\n",
       " 'image/jpeg',\n",
       " 'image/png; mode=8bit',\n",
       " 'image/vnd.jpeg-png',\n",
       " 'image/vnd.jpeg-png8',\n",
       " 'application/x-pdf',\n",
       " 'image/svg+xml',\n",
       " 'image/tiff',\n",
       " 'application/x-protobuf',\n",
       " 'application/json']"
      ]
     },
     "execution_count": 42,
     "metadata": {},
     "output_type": "execute_result"
    }
   ],
   "source": [
    "wms.getOperationByName('GetMap').formatOptions"
   ]
  },
  {
   "cell_type": "code",
   "execution_count": 45,
   "metadata": {},
   "outputs": [],
   "source": [
    "img = wms.getmap(layers=['A02_Granice_powiatow'],\n",
    "                 styles=['default'],\n",
    "                 srs='CRS:84',\n",
    "                 bbox=(14, 49, 20, 55),\n",
    "                 size=(800, 600),\n",
    "                 format='image/png',\n",
    "                 transparent=True)"
   ]
  },
  {
   "cell_type": "code",
   "execution_count": 46,
   "metadata": {},
   "outputs": [],
   "source": [
    "with open('image.png', 'wb') as out:\n",
    "    out.write(img.read())"
   ]
  },
  {
   "cell_type": "code",
   "execution_count": 56,
   "metadata": {},
   "outputs": [
    {
     "data": {
      "text/plain": [
       "[{'type': 'Get',\n",
       "  'url': 'https://mapy.geoportal.gov.pl/wss/service/PZGIK/PRG/WMS/AdministrativeBoundaries?language=pol&'},\n",
       " {'type': 'Post',\n",
       "  'url': 'https://mapy.geoportal.gov.pl/wss/service/PZGIK/PRG/WMS/AdministrativeBoundaries?language=pol&'}]"
      ]
     },
     "execution_count": 56,
     "metadata": {},
     "output_type": "execute_result"
    }
   ],
   "source": [
    "wms.getOperationByName('GetFeatureInfo').methods"
   ]
  },
  {
   "cell_type": "code",
   "execution_count": 57,
   "metadata": {},
   "outputs": [
    {
     "data": {
      "text/plain": [
       "['text/xml', 'text/html', 'application/vnd.ogc.gml', 'text/plain']"
      ]
     },
     "execution_count": 57,
     "metadata": {},
     "output_type": "execute_result"
    }
   ],
   "source": [
    "wms.getOperationByName('GetFeatureInfo').formatOptions"
   ]
  },
  {
   "cell_type": "code",
   "execution_count": 67,
   "metadata": {},
   "outputs": [],
   "source": [
    "feature_info = wms.getfeatureinfo(layers=['A02_Granice_powiatow'],\n",
    "                            styles=['default'],\n",
    "                            srs='CRS:84',\n",
    "                            bbox=(14, 49, 20, 55),\n",
    "                            size=(800, 600),\n",
    "                            format='image/png',\n",
    "                            transparent=True,\n",
    "                            query_layers=['A02_Granice_powiatow'],\n",
    "                            xy=(300, 300), # Here you can specify the pixel location\n",
    "                            info_format='text/xml')"
   ]
  },
  {
   "cell_type": "code",
   "execution_count": 68,
   "metadata": {},
   "outputs": [],
   "source": [
    "with open('feature_info.xml', 'wb') as out:\n",
    "    out.write(feature_info.read())\n"
   ]
  }
 ],
 "metadata": {
  "kernelspec": {
   "display_name": "ir",
   "language": "python",
   "name": "python3"
  },
  "language_info": {
   "codemirror_mode": {
    "name": "ipython",
    "version": 3
   },
   "file_extension": ".py",
   "mimetype": "text/x-python",
   "name": "python",
   "nbconvert_exporter": "python",
   "pygments_lexer": "ipython3",
   "version": "3.11.5"
  },
  "orig_nbformat": 4
 },
 "nbformat": 4,
 "nbformat_minor": 2
}
